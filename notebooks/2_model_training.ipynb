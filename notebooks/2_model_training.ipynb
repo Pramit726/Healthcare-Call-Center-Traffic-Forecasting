{
 "cells": [
  {
   "cell_type": "markdown",
   "id": "dfd78cb5",
   "metadata": {},
   "source": [
    "# Import Libraries"
   ]
  },
  {
   "cell_type": "code",
   "execution_count": 1,
   "id": "979db482-cea2-4625-84e3-a7784c59b17e",
   "metadata": {},
   "outputs": [
    {
     "name": "stderr",
     "output_type": "stream",
     "text": [
      "e:\\Learnings\\Learning_curves\\Call_Center_Traffic_Forecasting\\call\\lib\\site-packages\\tqdm\\auto.py:21: TqdmWarning: IProgress not found. Please update jupyter and ipywidgets. See https://ipywidgets.readthedocs.io/en/stable/user_install.html\n",
      "  from .autonotebook import tqdm as notebook_tqdm\n"
     ]
    }
   ],
   "source": [
    "import numpy as np\n",
    "import pandas as pd\n",
    "import matplotlib.pyplot as plt\n",
    "import mlflow\n",
    "from mlflow import MlflowClient\n",
    "from mlflow.models.signature import infer_signature\n",
    "import dagshub\n",
    "import optuna\n",
    "import pmdarima \n",
    "import warnings\n",
    "from ml.utils.utils import get_data, prepare_monthly_healthcare_series\n",
    "from sktime.forecasting.model_selection import temporal_train_test_split\n",
    "from sktime.utils.plotting import plot_series\n",
    "from sktime.forecasting.arima import ARIMA\n",
    "from sktime.forecasting.compose import TransformedTargetForecaster\n",
    "from sktime.transformations.series.difference import Differencer\n",
    "from sktime.forecasting.base import ForecastingHorizon\n",
    "from sktime.performance_metrics.forecasting import mean_absolute_error\n",
    "from statsmodels.graphics.tsaplots import plot_acf, plot_pacf\n"
   ]
  },
  {
   "cell_type": "markdown",
   "id": "2d3a313e",
   "metadata": {},
   "source": [
    "\n",
    "# Dagshub Integration for MLflow Experiment Tracking"
   ]
  },
  {
   "cell_type": "code",
   "execution_count": 2,
   "id": "129c4b57",
   "metadata": {},
   "outputs": [
    {
     "data": {
      "text/plain": [
       "False"
      ]
     },
     "execution_count": 2,
     "metadata": {},
     "output_type": "execute_result"
    }
   ],
   "source": [
    "mlflow.is_tracking_uri_set()"
   ]
  },
  {
   "cell_type": "code",
   "execution_count": 3,
   "id": "429bac22",
   "metadata": {},
   "outputs": [
    {
     "data": {
      "text/html": [
       "<pre style=\"white-space:pre;overflow-x:auto;line-height:normal;font-family:Menlo,'DejaVu Sans Mono',consolas,'Courier New',monospace\">Accessing as pramitde726\n",
       "</pre>\n"
      ],
      "text/plain": [
       "Accessing as pramitde726\n"
      ]
     },
     "metadata": {},
     "output_type": "display_data"
    },
    {
     "data": {
      "text/html": [
       "<pre style=\"white-space:pre;overflow-x:auto;line-height:normal;font-family:Menlo,'DejaVu Sans Mono',consolas,'Courier New',monospace\">Initialized MLflow to track repo <span style=\"color: #008000; text-decoration-color: #008000\">\"pramitde726/Healthcare-Call-Center-Traffic-Forecasting\"</span>\n",
       "</pre>\n"
      ],
      "text/plain": [
       "Initialized MLflow to track repo \u001b[32m\"pramitde726/Healthcare-Call-Center-Traffic-Forecasting\"\u001b[0m\n"
      ]
     },
     "metadata": {},
     "output_type": "display_data"
    },
    {
     "data": {
      "text/html": [
       "<pre style=\"white-space:pre;overflow-x:auto;line-height:normal;font-family:Menlo,'DejaVu Sans Mono',consolas,'Courier New',monospace\">Repository pramitde726/Healthcare-Call-Center-Traffic-Forecasting initialized!\n",
       "</pre>\n"
      ],
      "text/plain": [
       "Repository pramitde726/Healthcare-Call-Center-Traffic-Forecasting initialized!\n"
      ]
     },
     "metadata": {},
     "output_type": "display_data"
    }
   ],
   "source": [
    "dagshub.init(repo_owner='pramitde726', repo_name='Healthcare-Call-Center-Traffic-Forecasting', mlflow=True)"
   ]
  },
  {
   "cell_type": "code",
   "execution_count": 4,
   "id": "3d91255e-09fc-4243-8d92-76e482273461",
   "metadata": {},
   "outputs": [
    {
     "data": {
      "text/plain": [
       "'https://dagshub.com/pramitde726/Healthcare-Call-Center-Traffic-Forecasting.mlflow'"
      ]
     },
     "execution_count": 4,
     "metadata": {},
     "output_type": "execute_result"
    }
   ],
   "source": [
    "mlflow.get_tracking_uri()"
   ]
  },
  {
   "cell_type": "code",
   "execution_count": 5,
   "id": "d5836ebc-9725-4a13-adcf-1c2b958815c0",
   "metadata": {},
   "outputs": [],
   "source": [
    "# Set the maximum number of columns to display\n",
    "pd.set_option('display.max_columns', None) \n",
    "\n",
    "## Ignore warnings\n",
    "warnings.filterwarnings(\"ignore\")"
   ]
  },
  {
   "cell_type": "markdown",
   "id": "51fc200e",
   "metadata": {},
   "source": [
    "# Read the Data"
   ]
  },
  {
   "cell_type": "code",
   "execution_count": 6,
   "id": "6794e5d3",
   "metadata": {},
   "outputs": [
    {
     "data": {
      "text/html": [
       "<div>\n",
       "<style scoped>\n",
       "    .dataframe tbody tr th:only-of-type {\n",
       "        vertical-align: middle;\n",
       "    }\n",
       "\n",
       "    .dataframe tbody tr th {\n",
       "        vertical-align: top;\n",
       "    }\n",
       "\n",
       "    .dataframe thead th {\n",
       "        text-align: right;\n",
       "    }\n",
       "</style>\n",
       "<table border=\"1\" class=\"dataframe\">\n",
       "  <thead>\n",
       "    <tr style=\"text-align: right;\">\n",
       "      <th></th>\n",
       "      <th>month</th>\n",
       "      <th>Healthcare</th>\n",
       "      <th>Telecom</th>\n",
       "      <th>Banking</th>\n",
       "      <th>Technology</th>\n",
       "      <th>Insurance</th>\n",
       "      <th>#ofphonelines</th>\n",
       "      <th>#noofchannels</th>\n",
       "    </tr>\n",
       "  </thead>\n",
       "  <tbody>\n",
       "    <tr>\n",
       "      <th>0</th>\n",
       "      <td>31-Jan</td>\n",
       "      <td>631</td>\n",
       "      <td>8</td>\n",
       "      <td>6</td>\n",
       "      <td>2</td>\n",
       "      <td>19</td>\n",
       "      <td>1</td>\n",
       "      <td>4</td>\n",
       "    </tr>\n",
       "    <tr>\n",
       "      <th>1</th>\n",
       "      <td>28-Feb</td>\n",
       "      <td>633</td>\n",
       "      <td>9</td>\n",
       "      <td>7</td>\n",
       "      <td>3</td>\n",
       "      <td>27</td>\n",
       "      <td>1</td>\n",
       "      <td>3</td>\n",
       "    </tr>\n",
       "    <tr>\n",
       "      <th>2</th>\n",
       "      <td>31-Mar</td>\n",
       "      <td>766</td>\n",
       "      <td>4</td>\n",
       "      <td>4</td>\n",
       "      <td>2</td>\n",
       "      <td>24</td>\n",
       "      <td>1</td>\n",
       "      <td>1</td>\n",
       "    </tr>\n",
       "    <tr>\n",
       "      <th>3</th>\n",
       "      <td>30-Apr</td>\n",
       "      <td>768</td>\n",
       "      <td>12</td>\n",
       "      <td>6</td>\n",
       "      <td>3</td>\n",
       "      <td>32</td>\n",
       "      <td>1</td>\n",
       "      <td>1</td>\n",
       "    </tr>\n",
       "    <tr>\n",
       "      <th>4</th>\n",
       "      <td>31-May</td>\n",
       "      <td>1003</td>\n",
       "      <td>2</td>\n",
       "      <td>7</td>\n",
       "      <td>2</td>\n",
       "      <td>42</td>\n",
       "      <td>1</td>\n",
       "      <td>4</td>\n",
       "    </tr>\n",
       "  </tbody>\n",
       "</table>\n",
       "</div>"
      ],
      "text/plain": [
       "    month  Healthcare  Telecom  Banking  Technology  Insurance  #ofphonelines  \\\n",
       "0  31-Jan         631        8        6           2         19              1   \n",
       "1  28-Feb         633        9        7           3         27              1   \n",
       "2  31-Mar         766        4        4           2         24              1   \n",
       "3  30-Apr         768       12        6           3         32              1   \n",
       "4  31-May        1003        2        7           2         42              1   \n",
       "\n",
       "   #noofchannels  \n",
       "0              4  \n",
       "1              3  \n",
       "2              1  \n",
       "3              1  \n",
       "4              4  "
      ]
     },
     "execution_count": 6,
     "metadata": {},
     "output_type": "execute_result"
    }
   ],
   "source": [
    "df = get_data(\"CallCenterData\", \"raw\")\n",
    "df.head()\n"
   ]
  },
  {
   "cell_type": "code",
   "execution_count": 7,
   "id": "b9619dd8",
   "metadata": {},
   "outputs": [],
   "source": [
    "start_year = 2014 "
   ]
  },
  {
   "cell_type": "code",
   "execution_count": 8,
   "id": "e79c5ace",
   "metadata": {},
   "outputs": [],
   "source": [
    "analysis_df = prepare_monthly_healthcare_series(df, start_year=start_year)"
   ]
  },
  {
   "cell_type": "code",
   "execution_count": 9,
   "id": "cffefac7",
   "metadata": {},
   "outputs": [
    {
     "data": {
      "text/plain": [
       "index\n",
       "2014-01-31      631\n",
       "2014-02-28      633\n",
       "2014-03-31      766\n",
       "2014-04-30      768\n",
       "2014-05-31     1003\n",
       "              ...  \n",
       "2024-08-31    20257\n",
       "2024-09-30    19207\n",
       "2024-10-31    23414\n",
       "2024-11-30    23602\n",
       "2024-12-31    20058\n",
       "Freq: ME, Name: Healthcare, Length: 132, dtype: int64"
      ]
     },
     "execution_count": 9,
     "metadata": {},
     "output_type": "execute_result"
    }
   ],
   "source": [
    "analysis_df"
   ]
  },
  {
   "cell_type": "code",
   "execution_count": 10,
   "id": "7fd6096d",
   "metadata": {},
   "outputs": [],
   "source": [
    "y_train, y_test = temporal_train_test_split(analysis_df, test_size=12)"
   ]
  },
  {
   "cell_type": "code",
   "execution_count": 12,
   "id": "9639b0f7",
   "metadata": {},
   "outputs": [
    {
     "data": {
      "image/png": "[encoded data removed]",
      "text/plain": [
       "<Figure size 1600x400 with 1 Axes>"
      ]
     },
     "metadata": {},
     "output_type": "display_data"
    }
   ],
   "source": [
    "# Plot the train and test data\n",
    "plot_series(y_train, y_test, labels=[\"Training Data\", \"Test Data\"])\n",
    "plt.title(\"Train and Test Split of Monthly Healthcare Call Volumes\")\n",
    "plt.xlabel(\"Date\")\n",
    "plt.ylabel(\"Number of Calls\")\n",
    "plt.show()\n",
    "\n"
   ]
  },
  {
   "cell_type": "markdown",
   "id": "35bea403",
   "metadata": {},
   "source": [
    "# Model Selection"
   ]
  },
  {
   "cell_type": "code",
   "execution_count": 41,
   "id": "8e737d4c",
   "metadata": {},
   "outputs": [
    {
     "data": {
      "text/plain": [
       "<Experiment: artifact_location='mlflow-artifacts:/42f027a686ad402f956f5229fd5faf5e', creation_time=1742223160537, experiment_id='0', last_update_time=1742223160537, lifecycle_stage='active', name='Exp 1 - Model Selection', tags={}>"
      ]
     },
     "execution_count": 41,
     "metadata": {},
     "output_type": "execute_result"
    }
   ],
   "source": [
    "# mlflow experiment\n",
    "\n",
    "mlflow.set_experiment(\"Exp 1 - Model Selection\")"
   ]
  },
  {
   "cell_type": "code",
   "execution_count": 45,
   "id": "b19a4663",
   "metadata": {},
   "outputs": [
    {
     "name": "stdout",
     "output_type": "stream",
     "text": [
      "🏃 View run funny-midge-458 at: https://dagshub.com/pramitde726/Healthcare-Call-Center-Traffic-Forecasting.mlflow/#/experiments/0/runs/7ee8e71000eb41429b167baeea228b41\n",
      "🧪 View experiment at: https://dagshub.com/pramitde726/Healthcare-Call-Center-Traffic-Forecasting.mlflow/#/experiments/0\n",
      "🏃 View run enchanting-cow-950 at: https://dagshub.com/pramitde726/Healthcare-Call-Center-Traffic-Forecasting.mlflow/#/experiments/0/runs/3541753393d344578d2e943a7f839ccb\n",
      "🧪 View experiment at: https://dagshub.com/pramitde726/Healthcare-Call-Center-Traffic-Forecasting.mlflow/#/experiments/0\n",
      "🏃 View run righteous-wasp-844 at: https://dagshub.com/pramitde726/Healthcare-Call-Center-Traffic-Forecasting.mlflow/#/experiments/0/runs/a0fa16087ff642199cccd056e2647541\n",
      "🧪 View experiment at: https://dagshub.com/pramitde726/Healthcare-Call-Center-Traffic-Forecasting.mlflow/#/experiments/0\n",
      "Model Selection Results:\n",
      "{'ARIMA(0,1,1) - MA(1)': (2069.4716588574756, 1936.547, 1944.909), 'ARIMA(1,1,0) - AR(1)': (2861.393200700164, 1947.639, 1956.002), 'ARIMA(1,1,1) - ARMA(1,1)': (3381.939719602313, 1953.543, 1964.693)}\n",
      "Best Model: ARIMA(0,1,1) - MA(1)\n",
      "🏃 View run painted-penguin-498 at: https://dagshub.com/pramitde726/Healthcare-Call-Center-Traffic-Forecasting.mlflow/#/experiments/0/runs/3feaab84e27e451986399489a8f3087e\n",
      "🧪 View experiment at: https://dagshub.com/pramitde726/Healthcare-Call-Center-Traffic-Forecasting.mlflow/#/experiments/0\n"
     ]
    }
   ],
   "source": [
    "# Start MLflow run\n",
    "with mlflow.start_run():\n",
    "    models = {\n",
    "        \"ARIMA(0,1,1) - MA(1)\": TransformedTargetForecaster([\n",
    "            (\"differencer\", Differencer(lags=1)),\n",
    "            (\"forecaster\", ARIMA(order=(0, 0, 1))),  \n",
    "        ]),\n",
    "        \"ARIMA(1,1,0) - AR(1)\": TransformedTargetForecaster([\n",
    "            (\"differencer\", Differencer(lags=1)),\n",
    "            (\"forecaster\", ARIMA(order=(1, 0, 0))),\n",
    "        ]),\n",
    "        \"ARIMA(1,1,1) - ARMA(1,1)\": TransformedTargetForecaster([\n",
    "            (\"differencer\", Differencer(lags=1)),\n",
    "            (\"forecaster\", ARIMA(order=(1, 0, 1))),\n",
    "        ]),\n",
    "    }\n",
    "\n",
    "    results = {}\n",
    "    fh = np.arange(1, len(y_test) + 1)  \n",
    "\n",
    "    for model_name, model in models.items():\n",
    "        with mlflow.start_run(nested=True):  # Nested run for each model\n",
    "            mlflow.log_param(\"experiment_type\", model_name) \n",
    "\n",
    "            model.fit(y_train)\n",
    "            y_pred = model.predict(fh=fh)  \n",
    "            y_pred = pd.Series(y_pred, index=y_test.index) \n",
    "\n",
    "            # Compute MAE\n",
    "            mae = mean_absolute_error(y_test.values, y_pred.values)\n",
    "\n",
    "            # Compute Directional Accuracy (DA)\n",
    "            y_test_diff = y_test.diff().dropna().reset_index(drop=True)\n",
    "            y_pred_diff = y_pred.diff().dropna().reset_index(drop=True)\n",
    "            da = np.mean(np.sign(y_test_diff) == np.sign(y_pred_diff))\n",
    "\n",
    "            # Extract fitted ARIMA model and log AIC/BIC\n",
    "            try:\n",
    "                arima_model = model.forecaster_  # Extract ARIMA model\n",
    "                summary = arima_model.summary()\n",
    "                aic = float(summary.tables[0].data[2][3])  # Extract AIC\n",
    "                bic = float(summary.tables[0].data[3][3])  # Extract BIC\n",
    "            except (AttributeError, IndexError, ValueError):\n",
    "                aic, bic = None, None  # Handle errors gracefully\n",
    "\n",
    "            results[model_name] = (mae, aic, bic)\n",
    "\n",
    "            # Log metrics\n",
    "            mlflow.log_metric(\"MAE\", mae)\n",
    "            mlflow.log_metric(\"DA\", da)\n",
    "            if aic is not None:\n",
    "                mlflow.log_metric(\"AIC\", aic)\n",
    "            if bic is not None:\n",
    "                mlflow.log_metric(\"BIC\", bic)\n",
    "\n",
    "            # Plot and Log Residual ACF and PACF\n",
    "            residuals = y_test - y_pred\n",
    "            max_lags_acf = min(12, len(residuals) - 1) \n",
    "            max_lags_pacf = min(12, (len(residuals) // 2) - 1)\n",
    "\n",
    "            fig, axes = plt.subplots(1, 2, figsize=(12, 4))\n",
    "            plot_acf(residuals.dropna(), lags=max_lags_acf, ax=axes[0])\n",
    "            axes[0].set_title(f\"{model_name} Residual ACF\")\n",
    "            plot_pacf(residuals.dropna(), lags=max_lags_pacf, ax=axes[1])\n",
    "            axes[1].set_title(f\"{model_name} Residual PACF\")\n",
    "            \n",
    "            mlflow.log_figure(fig, f\"{model_name}_Residual_ACF_PACF.png\")\n",
    "            plt.close(fig)\n",
    "\n",
    "    # Log best model based on lowest AIC\n",
    "    best_model_name = min(results, key=lambda x: results[x][1] if results[x][1] is not None else float(\"inf\"))\n",
    "    mlflow.log_param(\"best_model\", best_model_name)\n",
    "\n",
    "    print(f\"Model Selection Results:\\n{results}\")\n",
    "    print(f\"Best Model: {best_model_name}\")\n"
   ]
  },
  {
   "cell_type": "markdown",
   "id": "0d062a20",
   "metadata": {},
   "source": [
    "# Hyperparamter Tuning"
   ]
  },
  {
   "cell_type": "markdown",
   "id": "9547f98b",
   "metadata": {},
   "source": [
    "## Fine-Tuning Strategy \n",
    "1. Parameters to Tune\n",
    "Moving Average (q): This parameter controls the MA component of ARIMA. The best model has q=1, but we will explore values around it.\n",
    "\n",
    "Differencing Order (d): Since d=1 performed well, we keep it fixed.\n",
    "\n",
    "Auto-Regressive Order (p): Though the best model has p=0, we explore whether including autoregressive terms improves performance.\n",
    "\n",
    "2. Optimization Objective\n",
    "Minimize MAE: The goal is to select (p, q) that minimize the mean absolute error.\n",
    "\n",
    "3. Search Space\n",
    "\n",
    "- p ∈ [0, 5]\n",
    "- q ∈ [0, 5]\n",
    "- d = 1 (Fixed)"
   ]
  },
  {
   "cell_type": "code",
   "execution_count": 49,
   "id": "3f8601c6",
   "metadata": {},
   "outputs": [
    {
     "data": {
      "text/plain": [
       "<Experiment: artifact_location='mlflow-artifacts:/535a331b02dc47bda746a88dc3f4350e', creation_time=1742652906969, experiment_id='1', last_update_time=1742652906969, lifecycle_stage='active', name='Exp 2 - Best Model', tags={}>"
      ]
     },
     "execution_count": 49,
     "metadata": {},
     "output_type": "execute_result"
    }
   ],
   "source": [
    "mlflow.set_experiment(\"Exp 2 - Best Model\")"
   ]
  },
  {
   "cell_type": "code",
   "execution_count": 68,
   "id": "121109d8",
   "metadata": {},
   "outputs": [],
   "source": [
    "# Define Forecast Horizon\n",
    "fh = np.arange(1, len(y_train) + 1) \n",
    "\n",
    "def objective(trial):\n",
    "    p = trial.suggest_int(\"p\", 0, 5)\n",
    "    q = trial.suggest_int(\"q\", 0, 5)\n",
    "    d = 1  # Fixed differencing order\n",
    "\n",
    "    try:\n",
    "        with mlflow.start_run(nested=True):\n",
    "            # Define sktime pipeline with differencing\n",
    "            model = TransformedTargetForecaster([\n",
    "                (\"differencer\", Differencer(lags=d)),\n",
    "                (\"forecaster\", ARIMA(order=(p, 0, q)))  \n",
    "            ])\n",
    "\n",
    "            model.fit(y_train)\n",
    "\n",
    "            # Forecast\n",
    "            y_pred = model.predict(fh=fh)\n",
    "            mae = mean_absolute_error(y_train, y_pred)\n",
    "\n",
    "            # Log parameters & metrics to MLflow\n",
    "            mlflow.log_params({\"p\": p, \"d\": d, \"q\": q})\n",
    "            mlflow.log_metric(\"MAE\", mae)\n",
    "\n",
    "        return mae\n",
    "    except Exception as e:\n",
    "        return np.inf  # Return high value if ARIMA fails"
   ]
  },
  {
   "cell_type": "code",
   "execution_count": 69,
   "id": "54bcfc86",
   "metadata": {},
   "outputs": [
    {
     "name": "stderr",
     "output_type": "stream",
     "text": [
      "[I 2025-03-24 19:56:17,546] A new study created in memory with name: no-name-38a0c968-8b36-4662-be7e-1e35776fa5e0\n"
     ]
    },
    {
     "name": "stdout",
     "output_type": "stream",
     "text": [
      "🏃 View run bright-carp-605 at: https://dagshub.com/pramitde726/Healthcare-Call-Center-Traffic-Forecasting.mlflow/#/experiments/1/runs/482483f5a0c342d38e5f75e181d8a385\n",
      "🧪 View experiment at: https://dagshub.com/pramitde726/Healthcare-Call-Center-Traffic-Forecasting.mlflow/#/experiments/1\n"
     ]
    },
    {
     "name": "stderr",
     "output_type": "stream",
     "text": [
      "[I 2025-03-24 19:56:20,304] Trial 0 finished with value: 14164.945619180742 and parameters: {'p': 5, 'q': 2}. Best is trial 0 with value: 14164.945619180742.\n"
     ]
    },
    {
     "name": "stdout",
     "output_type": "stream",
     "text": [
      "🏃 View run bold-colt-273 at: https://dagshub.com/pramitde726/Healthcare-Call-Center-Traffic-Forecasting.mlflow/#/experiments/1/runs/2a92e24e4b654a3187758c12384fae85\n",
      "🧪 View experiment at: https://dagshub.com/pramitde726/Healthcare-Call-Center-Traffic-Forecasting.mlflow/#/experiments/1\n"
     ]
    },
    {
     "name": "stderr",
     "output_type": "stream",
     "text": [
      "[I 2025-03-24 19:56:22,753] Trial 1 finished with value: 16728.753084073083 and parameters: {'p': 0, 'q': 2}. Best is trial 0 with value: 14164.945619180742.\n"
     ]
    },
    {
     "name": "stdout",
     "output_type": "stream",
     "text": [
      "🏃 View run wistful-koi-568 at: https://dagshub.com/pramitde726/Healthcare-Call-Center-Traffic-Forecasting.mlflow/#/experiments/1/runs/e699e5613b6c4769b265b352e9b1d7e8\n",
      "🧪 View experiment at: https://dagshub.com/pramitde726/Healthcare-Call-Center-Traffic-Forecasting.mlflow/#/experiments/1\n"
     ]
    },
    {
     "name": "stderr",
     "output_type": "stream",
     "text": [
      "[I 2025-03-24 19:56:25,552] Trial 2 finished with value: 14660.227948304388 and parameters: {'p': 3, 'q': 4}. Best is trial 0 with value: 14164.945619180742.\n"
     ]
    },
    {
     "name": "stdout",
     "output_type": "stream",
     "text": [
      "🏃 View run exultant-seal-374 at: https://dagshub.com/pramitde726/Healthcare-Call-Center-Traffic-Forecasting.mlflow/#/experiments/1/runs/40cbe8f66d4c403f9611155be15ba464\n",
      "🧪 View experiment at: https://dagshub.com/pramitde726/Healthcare-Call-Center-Traffic-Forecasting.mlflow/#/experiments/1\n"
     ]
    },
    {
     "name": "stderr",
     "output_type": "stream",
     "text": [
      "[I 2025-03-24 19:56:27,852] Trial 3 finished with value: 15173.7765480196 and parameters: {'p': 1, 'q': 0}. Best is trial 0 with value: 14164.945619180742.\n"
     ]
    },
    {
     "name": "stdout",
     "output_type": "stream",
     "text": [
      "🏃 View run shivering-eel-45 at: https://dagshub.com/pramitde726/Healthcare-Call-Center-Traffic-Forecasting.mlflow/#/experiments/1/runs/d9fa1b0626cb4e228e23c88ee19f2aea\n",
      "🧪 View experiment at: https://dagshub.com/pramitde726/Healthcare-Call-Center-Traffic-Forecasting.mlflow/#/experiments/1\n"
     ]
    },
    {
     "name": "stderr",
     "output_type": "stream",
     "text": [
      "[I 2025-03-24 19:56:31,969] Trial 4 finished with value: 17018.77113173085 and parameters: {'p': 4, 'q': 5}. Best is trial 0 with value: 14164.945619180742.\n"
     ]
    },
    {
     "name": "stdout",
     "output_type": "stream",
     "text": [
      "🏃 View run efficient-auk-173 at: https://dagshub.com/pramitde726/Healthcare-Call-Center-Traffic-Forecasting.mlflow/#/experiments/1/runs/8cd048c846a649b9982cd945477616c9\n",
      "🧪 View experiment at: https://dagshub.com/pramitde726/Healthcare-Call-Center-Traffic-Forecasting.mlflow/#/experiments/1\n"
     ]
    },
    {
     "name": "stderr",
     "output_type": "stream",
     "text": [
      "[I 2025-03-24 19:56:36,984] Trial 5 finished with value: 16303.053824847819 and parameters: {'p': 4, 'q': 0}. Best is trial 0 with value: 14164.945619180742.\n"
     ]
    },
    {
     "name": "stdout",
     "output_type": "stream",
     "text": [
      "🏃 View run capable-skunk-268 at: https://dagshub.com/pramitde726/Healthcare-Call-Center-Traffic-Forecasting.mlflow/#/experiments/1/runs/1be2abd1742841c7a9b69b8f8cf23561\n",
      "🧪 View experiment at: https://dagshub.com/pramitde726/Healthcare-Call-Center-Traffic-Forecasting.mlflow/#/experiments/1\n"
     ]
    },
    {
     "name": "stderr",
     "output_type": "stream",
     "text": [
      "[I 2025-03-24 19:56:41,999] Trial 6 finished with value: 14145.99471867021 and parameters: {'p': 2, 'q': 4}. Best is trial 6 with value: 14145.99471867021.\n"
     ]
    },
    {
     "name": "stdout",
     "output_type": "stream",
     "text": [
      "🏃 View run popular-conch-302 at: https://dagshub.com/pramitde726/Healthcare-Call-Center-Traffic-Forecasting.mlflow/#/experiments/1/runs/a44fda7bccce4477badfcfe44f20e777\n",
      "🧪 View experiment at: https://dagshub.com/pramitde726/Healthcare-Call-Center-Traffic-Forecasting.mlflow/#/experiments/1\n"
     ]
    },
    {
     "name": "stderr",
     "output_type": "stream",
     "text": [
      "[I 2025-03-24 19:56:47,008] Trial 7 finished with value: 15917.21557483441 and parameters: {'p': 3, 'q': 1}. Best is trial 6 with value: 14145.99471867021.\n"
     ]
    },
    {
     "name": "stdout",
     "output_type": "stream",
     "text": [
      "🏃 View run bittersweet-wasp-323 at: https://dagshub.com/pramitde726/Healthcare-Call-Center-Traffic-Forecasting.mlflow/#/experiments/1/runs/3d63b074fd294bdd88b8a0e8921a0219\n",
      "🧪 View experiment at: https://dagshub.com/pramitde726/Healthcare-Call-Center-Traffic-Forecasting.mlflow/#/experiments/1\n"
     ]
    },
    {
     "name": "stderr",
     "output_type": "stream",
     "text": [
      "[I 2025-03-24 19:56:51,981] Trial 8 finished with value: 16004.904204162178 and parameters: {'p': 5, 'q': 1}. Best is trial 6 with value: 14145.99471867021.\n"
     ]
    },
    {
     "name": "stdout",
     "output_type": "stream",
     "text": [
      "🏃 View run loud-fish-826 at: https://dagshub.com/pramitde726/Healthcare-Call-Center-Traffic-Forecasting.mlflow/#/experiments/1/runs/44a780785f5541c79b314aea4b31b04f\n",
      "🧪 View experiment at: https://dagshub.com/pramitde726/Healthcare-Call-Center-Traffic-Forecasting.mlflow/#/experiments/1\n"
     ]
    },
    {
     "name": "stderr",
     "output_type": "stream",
     "text": [
      "[I 2025-03-24 19:56:56,995] Trial 9 finished with value: 15917.21557483441 and parameters: {'p': 3, 'q': 1}. Best is trial 6 with value: 14145.99471867021.\n"
     ]
    },
    {
     "name": "stdout",
     "output_type": "stream",
     "text": [
      "🏃 View run thundering-grub-896 at: https://dagshub.com/pramitde726/Healthcare-Call-Center-Traffic-Forecasting.mlflow/#/experiments/1/runs/74b915fc1c1c45ee8e10534066ccfd54\n",
      "🧪 View experiment at: https://dagshub.com/pramitde726/Healthcare-Call-Center-Traffic-Forecasting.mlflow/#/experiments/1\n"
     ]
    },
    {
     "name": "stderr",
     "output_type": "stream",
     "text": [
      "[I 2025-03-24 19:57:01,978] Trial 10 finished with value: 14125.441256697248 and parameters: {'p': 1, 'q': 4}. Best is trial 10 with value: 14125.441256697248.\n"
     ]
    },
    {
     "name": "stdout",
     "output_type": "stream",
     "text": [
      "🏃 View run enthused-croc-703 at: https://dagshub.com/pramitde726/Healthcare-Call-Center-Traffic-Forecasting.mlflow/#/experiments/1/runs/08738e8d9ac44e40a59fdf29a9b6a623\n",
      "🧪 View experiment at: https://dagshub.com/pramitde726/Healthcare-Call-Center-Traffic-Forecasting.mlflow/#/experiments/1\n"
     ]
    },
    {
     "name": "stderr",
     "output_type": "stream",
     "text": [
      "[I 2025-03-24 19:57:06,999] Trial 11 finished with value: 14125.441256697248 and parameters: {'p': 1, 'q': 4}. Best is trial 10 with value: 14125.441256697248.\n"
     ]
    },
    {
     "name": "stdout",
     "output_type": "stream",
     "text": [
      "🏃 View run welcoming-hare-83 at: https://dagshub.com/pramitde726/Healthcare-Call-Center-Traffic-Forecasting.mlflow/#/experiments/1/runs/8da0cd9a242e43e4b5715717876d7e0b\n",
      "🧪 View experiment at: https://dagshub.com/pramitde726/Healthcare-Call-Center-Traffic-Forecasting.mlflow/#/experiments/1\n"
     ]
    },
    {
     "name": "stderr",
     "output_type": "stream",
     "text": [
      "[I 2025-03-24 19:57:12,007] Trial 12 finished with value: 16376.761028454286 and parameters: {'p': 0, 'q': 4}. Best is trial 10 with value: 14125.441256697248.\n"
     ]
    },
    {
     "name": "stdout",
     "output_type": "stream",
     "text": [
      "🏃 View run unruly-duck-709 at: https://dagshub.com/pramitde726/Healthcare-Call-Center-Traffic-Forecasting.mlflow/#/experiments/1/runs/a778f058a4bf46c08203409e7a66d1db\n",
      "🧪 View experiment at: https://dagshub.com/pramitde726/Healthcare-Call-Center-Traffic-Forecasting.mlflow/#/experiments/1\n"
     ]
    },
    {
     "name": "stderr",
     "output_type": "stream",
     "text": [
      "[I 2025-03-24 19:57:16,993] Trial 13 finished with value: 16118.879214862094 and parameters: {'p': 1, 'q': 5}. Best is trial 10 with value: 14125.441256697248.\n"
     ]
    },
    {
     "name": "stdout",
     "output_type": "stream",
     "text": [
      "🏃 View run flawless-lark-799 at: https://dagshub.com/pramitde726/Healthcare-Call-Center-Traffic-Forecasting.mlflow/#/experiments/1/runs/ddfdba14cab04dceac521205f8c60001\n",
      "🧪 View experiment at: https://dagshub.com/pramitde726/Healthcare-Call-Center-Traffic-Forecasting.mlflow/#/experiments/1\n"
     ]
    },
    {
     "name": "stderr",
     "output_type": "stream",
     "text": [
      "[I 2025-03-24 19:57:21,988] Trial 14 finished with value: 15443.678434850377 and parameters: {'p': 1, 'q': 3}. Best is trial 10 with value: 14125.441256697248.\n"
     ]
    },
    {
     "name": "stdout",
     "output_type": "stream",
     "text": [
      "🏃 View run polite-lamb-940 at: https://dagshub.com/pramitde726/Healthcare-Call-Center-Traffic-Forecasting.mlflow/#/experiments/1/runs/f7bfa706a85147ecb8002251c537074a\n",
      "🧪 View experiment at: https://dagshub.com/pramitde726/Healthcare-Call-Center-Traffic-Forecasting.mlflow/#/experiments/1\n"
     ]
    },
    {
     "name": "stderr",
     "output_type": "stream",
     "text": [
      "[I 2025-03-24 19:57:27,016] Trial 15 finished with value: 15915.14050900423 and parameters: {'p': 2, 'q': 3}. Best is trial 10 with value: 14125.441256697248.\n"
     ]
    },
    {
     "name": "stdout",
     "output_type": "stream",
     "text": [
      "🏃 View run marvelous-mare-874 at: https://dagshub.com/pramitde726/Healthcare-Call-Center-Traffic-Forecasting.mlflow/#/experiments/1/runs/f9995cbeb827408d8995883aac5f6e5b\n",
      "🧪 View experiment at: https://dagshub.com/pramitde726/Healthcare-Call-Center-Traffic-Forecasting.mlflow/#/experiments/1\n"
     ]
    },
    {
     "name": "stderr",
     "output_type": "stream",
     "text": [
      "[I 2025-03-24 19:57:31,986] Trial 16 finished with value: 14125.441256697248 and parameters: {'p': 1, 'q': 4}. Best is trial 10 with value: 14125.441256697248.\n"
     ]
    },
    {
     "name": "stdout",
     "output_type": "stream",
     "text": [
      "🏃 View run likeable-lynx-32 at: https://dagshub.com/pramitde726/Healthcare-Call-Center-Traffic-Forecasting.mlflow/#/experiments/1/runs/a424400fee1c4ceb8e27dff9240c3bf0\n",
      "🧪 View experiment at: https://dagshub.com/pramitde726/Healthcare-Call-Center-Traffic-Forecasting.mlflow/#/experiments/1\n"
     ]
    },
    {
     "name": "stderr",
     "output_type": "stream",
     "text": [
      "[I 2025-03-24 19:57:36,980] Trial 17 finished with value: 17013.996394519378 and parameters: {'p': 0, 'q': 5}. Best is trial 10 with value: 14125.441256697248.\n"
     ]
    },
    {
     "name": "stdout",
     "output_type": "stream",
     "text": [
      "🏃 View run shivering-calf-363 at: https://dagshub.com/pramitde726/Healthcare-Call-Center-Traffic-Forecasting.mlflow/#/experiments/1/runs/9be3b0a65e54452b802b90aee61a72cc\n",
      "🧪 View experiment at: https://dagshub.com/pramitde726/Healthcare-Call-Center-Traffic-Forecasting.mlflow/#/experiments/1\n"
     ]
    },
    {
     "name": "stderr",
     "output_type": "stream",
     "text": [
      "[I 2025-03-24 19:57:42,008] Trial 18 finished with value: 15915.14050900423 and parameters: {'p': 2, 'q': 3}. Best is trial 10 with value: 14125.441256697248.\n"
     ]
    },
    {
     "name": "stdout",
     "output_type": "stream",
     "text": [
      "🏃 View run angry-chimp-877 at: https://dagshub.com/pramitde726/Healthcare-Call-Center-Traffic-Forecasting.mlflow/#/experiments/1/runs/2a72cb94c24a4856b8dc3eb26f3d168c\n",
      "🧪 View experiment at: https://dagshub.com/pramitde726/Healthcare-Call-Center-Traffic-Forecasting.mlflow/#/experiments/1\n"
     ]
    },
    {
     "name": "stderr",
     "output_type": "stream",
     "text": [
      "[I 2025-03-24 19:57:46,982] Trial 19 finished with value: 14125.441256697248 and parameters: {'p': 1, 'q': 4}. Best is trial 10 with value: 14125.441256697248.\n",
      "2025/03/24 19:59:49 WARNING mlflow.utils.environment: Encountered an unexpected error while inferring pip requirements (model URI: C:\\Users\\PRAMIT~1\\AppData\\Local\\Temp\\tmp7hb00fxl\\model\\model.pkl, flavor: sklearn). Fall back to return ['scikit-learn==1.6.1', 'cloudpickle==3.1.1']. Set logging level to DEBUG to see the full traceback. \n",
      "Registered model 'healthcare_staging' already exists. Creating a new version of this model...\n",
      "2025/03/24 19:59:56 INFO mlflow.store.model_registry.abstract_store: Waiting up to 300 seconds for model version to finish creation. Model name: healthcare_staging, version 4\n",
      "Created version '4' of model 'healthcare_staging'.\n"
     ]
    },
    {
     "name": "stdout",
     "output_type": "stream",
     "text": [
      "Registered model version: 4\n",
      "🏃 View run chill-bug-529 at: https://dagshub.com/pramitde726/Healthcare-Call-Center-Traffic-Forecasting.mlflow/#/experiments/1/runs/e32f9629efe1490cbb04bda192bc8195\n",
      "🧪 View experiment at: https://dagshub.com/pramitde726/Healthcare-Call-Center-Traffic-Forecasting.mlflow/#/experiments/1\n",
      "Best ARIMA Order: (1, 1, 4)\n"
     ]
    }
   ],
   "source": [
    "# Run Optuna Optimization\n",
    "study = optuna.create_study(direction=\"minimize\")\n",
    "study.optimize(objective, n_trials=20)\n",
    "\n",
    "# Best hyperparameters\n",
    "best_p, best_q = study.best_params[\"p\"], study.best_params[\"q\"]\n",
    "\n",
    "# Train final model with best parameters\n",
    "best_model = TransformedTargetForecaster([\n",
    "    (\"differencer\", Differencer(lags=1)),  \n",
    "    (\"forecaster\", ARIMA(order=(best_p, 0, best_q)))\n",
    "])\n",
    "\n",
    "best_model.fit(y_train)\n",
    "\n",
    "# Log best model in MLflow\n",
    "with mlflow.start_run() as parent:\n",
    "    mlflow.log_params({\"p\": best_p, \"d\": 1, \"q\": best_q})\n",
    "    \n",
    "    # Infer signature correctly\n",
    "    signature = infer_signature(pd.DataFrame(y_train), pd.DataFrame(best_model.predict(fh=fh)))\n",
    "    \n",
    "    # Log the model\n",
    "    mlflow.sklearn.log_model(\n",
    "        sk_model=best_model, \n",
    "        artifact_path=\"best_model\", \n",
    "        signature=signature\n",
    "    )\n",
    "    \n",
    "    # Register the model\n",
    "    result = mlflow.register_model(\n",
    "        f\"runs:/{parent.info.run_id}/best_model\", \n",
    "        \"healthcare_staging\"\n",
    "    )\n",
    "    print(f\"Registered model version: {result.version}\")\n",
    "\n",
    "print(f\"Best ARIMA Order: ({best_p}, 1, {best_q})\")"
   ]
  },
  {
   "cell_type": "markdown",
   "id": "07d714de",
   "metadata": {},
   "source": [
    "# Export data"
   ]
  },
  {
   "cell_type": "code",
   "execution_count": 31,
   "id": "69003ba0",
   "metadata": {},
   "outputs": [],
   "source": [
    "train_path = \"../artifacts/train.csv\"\n",
    "test_path = \"../artifacts/test.csv\""
   ]
  },
  {
   "cell_type": "code",
   "execution_count": null,
   "id": "18f776cf",
   "metadata": {},
   "outputs": [],
   "source": [
    "y_train.to_csv(train_path)\n",
    "y_test.to_csv(test_path)"
   ]
  },
  {
   "cell_type": "markdown",
   "id": "11e525ff",
   "metadata": {},
   "source": [
    "# Model Registry"
   ]
  },
  {
   "cell_type": "code",
   "execution_count": 55,
   "id": "f4bbc4f3",
   "metadata": {},
   "outputs": [],
   "source": [
    "# Initialize an MLflow Client\n",
    "client = MlflowClient()"
   ]
  },
  {
   "cell_type": "code",
   "execution_count": 56,
   "id": "6836d619",
   "metadata": {},
   "outputs": [],
   "source": [
    "# Define the model name\n",
    "model_name = \"healthcare_staging\" "
   ]
  },
  {
   "cell_type": "code",
   "execution_count": 57,
   "id": "9ff36339",
   "metadata": {},
   "outputs": [],
   "source": [
    "def assign_alias_to_stage(model_name: str, alias: str) -> None:\n",
    "    \"\"\"\n",
    "    Assign an alias to the latest version of a registered model.\n",
    "\n",
    "    :param model_name: The name of the registered model.\n",
    "    :type model_name: str\n",
    "    :param alias: The alias to assign to the model version.\n",
    "    :type alias: str\n",
    "    :return: None\n",
    "    :rtype: None\n",
    "    \"\"\"\n",
    "    latest_mv: Any = client.get_latest_versions(model_name)[0]  \n",
    "    client.set_registered_model_alias(model_name, alias, latest_mv.version)\n",
    "    "
   ]
  },
  {
   "cell_type": "code",
   "execution_count": 58,
   "id": "25439834",
   "metadata": {},
   "outputs": [],
   "source": [
    "assign_alias_to_stage(model_name=model_name, alias=\"lat\")"
   ]
  },
  {
   "cell_type": "code",
   "execution_count": 59,
   "id": "94025039",
   "metadata": {},
   "outputs": [
    {
     "name": "stderr",
     "output_type": "stream",
     "text": [
      "Downloading artifacts: 100%|██████████| 5/5 [00:01<00:00,  4.79it/s]\n"
     ]
    }
   ],
   "source": [
    "# Fetch model URI using alias \n",
    "model_uri = f\"models:/{model_name}@lat\"\n",
    "\n",
    "# Load the best model\n",
    "best_model = mlflow.sklearn.load_model(model_uri)"
   ]
  },
  {
   "cell_type": "code",
   "execution_count": 60,
   "id": "7ae00774",
   "metadata": {},
   "outputs": [
    {
     "data": {
      "text/html": [
       "<table class=\"simpletable\">\n",
       "<caption>SARIMAX Results</caption>\n",
       "<tr>\n",
       "  <th>Dep. Variable:</th>           <td>y</td>        <th>  No. Observations:  </th>    <td>120</td>  \n",
       "</tr>\n",
       "<tr>\n",
       "  <th>Model:</th>           <td>SARIMAX(3, 0, 2)</td> <th>  Log Likelihood     </th> <td>-952.247</td>\n",
       "</tr>\n",
       "<tr>\n",
       "  <th>Date:</th>            <td>Mon, 24 Mar 2025</td> <th>  AIC                </th> <td>1918.495</td>\n",
       "</tr>\n",
       "<tr>\n",
       "  <th>Time:</th>                <td>19:53:12</td>     <th>  BIC                </th> <td>1938.007</td>\n",
       "</tr>\n",
       "<tr>\n",
       "  <th>Sample:</th>             <td>01-31-2014</td>    <th>  HQIC               </th> <td>1926.419</td>\n",
       "</tr>\n",
       "<tr>\n",
       "  <th></th>                   <td>- 12-31-2023</td>   <th>                     </th>     <td> </td>   \n",
       "</tr>\n",
       "<tr>\n",
       "  <th>Covariance Type:</th>        <td>opg</td>       <th>                     </th>     <td> </td>   \n",
       "</tr>\n",
       "</table>\n",
       "<table class=\"simpletable\">\n",
       "<tr>\n",
       "      <td></td>         <th>coef</th>     <th>std err</th>      <th>z</th>      <th>P>|z|</th>  <th>[0.025</th>    <th>0.975]</th>  \n",
       "</tr>\n",
       "<tr>\n",
       "  <th>intercept</th> <td>  265.5823</td> <td>  129.758</td> <td>    2.047</td> <td> 0.041</td> <td>   11.261</td> <td>  519.903</td>\n",
       "</tr>\n",
       "<tr>\n",
       "  <th>ar.L1</th>     <td>   -0.2683</td> <td>    0.109</td> <td>   -2.456</td> <td> 0.014</td> <td>   -0.482</td> <td>   -0.054</td>\n",
       "</tr>\n",
       "<tr>\n",
       "  <th>ar.L2</th>     <td>   -0.9834</td> <td>    0.028</td> <td>  -35.384</td> <td> 0.000</td> <td>   -1.038</td> <td>   -0.929</td>\n",
       "</tr>\n",
       "<tr>\n",
       "  <th>ar.L3</th>     <td>   -0.2434</td> <td>    0.113</td> <td>   -2.155</td> <td> 0.031</td> <td>   -0.465</td> <td>   -0.022</td>\n",
       "</tr>\n",
       "<tr>\n",
       "  <th>ma.L1</th>     <td>   -0.1502</td> <td>    0.050</td> <td>   -3.029</td> <td> 0.002</td> <td>   -0.247</td> <td>   -0.053</td>\n",
       "</tr>\n",
       "<tr>\n",
       "  <th>ma.L2</th>     <td>    0.9932</td> <td>    0.213</td> <td>    4.670</td> <td> 0.000</td> <td>    0.576</td> <td>    1.410</td>\n",
       "</tr>\n",
       "<tr>\n",
       "  <th>sigma2</th>    <td> 4.869e+05</td> <td> 1.15e+05</td> <td>    4.243</td> <td> 0.000</td> <td> 2.62e+05</td> <td> 7.12e+05</td>\n",
       "</tr>\n",
       "</table>\n",
       "<table class=\"simpletable\">\n",
       "<tr>\n",
       "  <th>Ljung-Box (L1) (Q):</th>     <td>0.08</td>  <th>  Jarque-Bera (JB):  </th> <td>16.58</td>\n",
       "</tr>\n",
       "<tr>\n",
       "  <th>Prob(Q):</th>                <td>0.78</td>  <th>  Prob(JB):          </th> <td>0.00</td> \n",
       "</tr>\n",
       "<tr>\n",
       "  <th>Heteroskedasticity (H):</th> <td>13.50</td> <th>  Skew:              </th> <td>-0.40</td>\n",
       "</tr>\n",
       "<tr>\n",
       "  <th>Prob(H) (two-sided):</th>    <td>0.00</td>  <th>  Kurtosis:          </th> <td>4.63</td> \n",
       "</tr>\n",
       "</table><br/><br/>Warnings:<br/>[1] Covariance matrix calculated using the outer product of gradients (complex-step)."
      ],
      "text/latex": [
       "\\begin{center}\n",
       "\\begin{tabular}{lclc}\n",
       "\\toprule\n",
       "\\textbf{Dep. Variable:}          &        y         & \\textbf{  No. Observations:  } &    120      \\\\\n",
       "\\textbf{Model:}                  & SARIMAX(3, 0, 2) & \\textbf{  Log Likelihood     } &  -952.247   \\\\\n",
       "\\textbf{Date:}                   & Mon, 24 Mar 2025 & \\textbf{  AIC                } &  1918.495   \\\\\n",
       "\\textbf{Time:}                   &     19:53:12     & \\textbf{  BIC                } &  1938.007   \\\\\n",
       "\\textbf{Sample:}                 &    01-31-2014    & \\textbf{  HQIC               } &  1926.419   \\\\\n",
       "\\textbf{}                        &   - 12-31-2023   & \\textbf{                     } &             \\\\\n",
       "\\textbf{Covariance Type:}        &       opg        & \\textbf{                     } &             \\\\\n",
       "\\bottomrule\n",
       "\\end{tabular}\n",
       "\\begin{tabular}{lcccccc}\n",
       "                   & \\textbf{coef} & \\textbf{std err} & \\textbf{z} & \\textbf{P$> |$z$|$} & \\textbf{[0.025} & \\textbf{0.975]}  \\\\\n",
       "\\midrule\n",
       "\\textbf{intercept} &     265.5823  &      129.758     &     2.047  &         0.041        &       11.261    &      519.903     \\\\\n",
       "\\textbf{ar.L1}     &      -0.2683  &        0.109     &    -2.456  &         0.014        &       -0.482    &       -0.054     \\\\\n",
       "\\textbf{ar.L2}     &      -0.9834  &        0.028     &   -35.384  &         0.000        &       -1.038    &       -0.929     \\\\\n",
       "\\textbf{ar.L3}     &      -0.2434  &        0.113     &    -2.155  &         0.031        &       -0.465    &       -0.022     \\\\\n",
       "\\textbf{ma.L1}     &      -0.1502  &        0.050     &    -3.029  &         0.002        &       -0.247    &       -0.053     \\\\\n",
       "\\textbf{ma.L2}     &       0.9932  &        0.213     &     4.670  &         0.000        &        0.576    &        1.410     \\\\\n",
       "\\textbf{sigma2}    &    4.869e+05  &     1.15e+05     &     4.243  &         0.000        &     2.62e+05    &     7.12e+05     \\\\\n",
       "\\bottomrule\n",
       "\\end{tabular}\n",
       "\\begin{tabular}{lclc}\n",
       "\\textbf{Ljung-Box (L1) (Q):}     &  0.08 & \\textbf{  Jarque-Bera (JB):  } & 16.58  \\\\\n",
       "\\textbf{Prob(Q):}                &  0.78 & \\textbf{  Prob(JB):          } &  0.00  \\\\\n",
       "\\textbf{Heteroskedasticity (H):} & 13.50 & \\textbf{  Skew:              } & -0.40  \\\\\n",
       "\\textbf{Prob(H) (two-sided):}    &  0.00 & \\textbf{  Kurtosis:          } &  4.63  \\\\\n",
       "\\bottomrule\n",
       "\\end{tabular}\n",
       "%\\caption{SARIMAX Results}\n",
       "\\end{center}\n",
       "\n",
       "Warnings: \\newline\n",
       " [1] Covariance matrix calculated using the outer product of gradients (complex-step)."
      ],
      "text/plain": [
       "<class 'statsmodels.iolib.summary.Summary'>\n",
       "\"\"\"\n",
       "                               SARIMAX Results                                \n",
       "==============================================================================\n",
       "Dep. Variable:                      y   No. Observations:                  120\n",
       "Model:               SARIMAX(3, 0, 2)   Log Likelihood                -952.247\n",
       "Date:                Mon, 24 Mar 2025   AIC                           1918.495\n",
       "Time:                        19:53:12   BIC                           1938.007\n",
       "Sample:                    01-31-2014   HQIC                          1926.419\n",
       "                         - 12-31-2023                                         \n",
       "Covariance Type:                  opg                                         \n",
       "==============================================================================\n",
       "                 coef    std err          z      P>|z|      [0.025      0.975]\n",
       "------------------------------------------------------------------------------\n",
       "intercept    265.5823    129.758      2.047      0.041      11.261     519.903\n",
       "ar.L1         -0.2683      0.109     -2.456      0.014      -0.482      -0.054\n",
       "ar.L2         -0.9834      0.028    -35.384      0.000      -1.038      -0.929\n",
       "ar.L3         -0.2434      0.113     -2.155      0.031      -0.465      -0.022\n",
       "ma.L1         -0.1502      0.050     -3.029      0.002      -0.247      -0.053\n",
       "ma.L2          0.9932      0.213      4.670      0.000       0.576       1.410\n",
       "sigma2      4.869e+05   1.15e+05      4.243      0.000    2.62e+05    7.12e+05\n",
       "===================================================================================\n",
       "Ljung-Box (L1) (Q):                   0.08   Jarque-Bera (JB):                16.58\n",
       "Prob(Q):                              0.78   Prob(JB):                         0.00\n",
       "Heteroskedasticity (H):              13.50   Skew:                            -0.40\n",
       "Prob(H) (two-sided):                  0.00   Kurtosis:                         4.63\n",
       "===================================================================================\n",
       "\n",
       "Warnings:\n",
       "[1] Covariance matrix calculated using the outer product of gradients (complex-step).\n",
       "\"\"\""
      ]
     },
     "execution_count": 60,
     "metadata": {},
     "output_type": "execute_result"
    }
   ],
   "source": [
    "best_model.forecaster_.summary()"
   ]
  },
  {
   "cell_type": "code",
   "execution_count": 66,
   "id": "8a2bd090",
   "metadata": {},
   "outputs": [
    {
     "name": "stdout",
     "output_type": "stream",
     "text": [
      "Directional Accuracy (DA): 0.6363636363636364\n"
     ]
    }
   ],
   "source": [
    "fh_test = np.arange(1, len(y_test) + 1)\n",
    "y_pred = best_model.predict(fh=fh_test)  \n",
    "y_pred = pd.Series(y_pred, index=y_test.index) \n",
    "\n",
    "# Compute Directional Accuracy (DA)\n",
    "y_test_diff = y_test.diff().dropna().reset_index(drop=True)\n",
    "y_pred_diff = y_pred.diff().dropna().reset_index(drop=True)\n",
    "da = np.mean(np.sign(y_test_diff) == np.sign(y_pred_diff))\n",
    "print(\"Directional Accuracy (DA):\", da)"
   ]
  },
  {
   "cell_type": "code",
   "execution_count": 67,
   "id": "c6ed3330",
   "metadata": {},
   "outputs": [
    {
     "data": {
      "text/plain": [
       "2776.067806113557"
      ]
     },
     "execution_count": 67,
     "metadata": {},
     "output_type": "execute_result"
    }
   ],
   "source": [
    "mae = mean_absolute_error(y_test, y_pred)\n",
    "mae\n"
   ]
  },
  {
   "cell_type": "code",
   "execution_count": 64,
   "id": "61d0fdb5",
   "metadata": {},
   "outputs": [],
   "source": [
    "# Get in-sample (training) predictions\n",
    "fh_train = ForecastingHorizon(y_train.index, is_relative=False)\n",
    "y_train_pred = best_model.predict(fh=fh_train)"
   ]
  },
  {
   "cell_type": "code",
   "execution_count": 65,
   "id": "b10cedc4",
   "metadata": {},
   "outputs": [
    {
     "data": {
      "image/png": "[encoded data removed]",
      "text/plain": [
       "<Figure size 1600x400 with 1 Axes>"
      ]
     },
     "metadata": {},
     "output_type": "display_data"
    }
   ],
   "source": [
    "# Plot actual vs. predicted values along with training predictions\n",
    "plot_series(y_train, y_train_pred, y_test, y_pred, labels=[\"Train (Actual)\", \"Train (Predicted)\", \"Test (Actual)\", \"Forecast (Predicted)\"])\n",
    "plt.xlabel(\"Date\")\n",
    "plt.ylabel(\"Number of Calls\")\n",
    "plt.title(\"Actual vs Predicted (Train & Test)\")\n",
    "plt.show()"
   ]
  },
  {
   "cell_type": "code",
   "execution_count": 73,
   "id": "14882f9a",
   "metadata": {},
   "outputs": [
    {
     "data": {
      "text/plain": [
       "Date\n",
       "2024-01-31    17167\n",
       "2024-02-29    17749\n",
       "2024-03-31    20144\n",
       "2024-04-30    20054\n",
       "2024-05-31    19128\n",
       "2024-06-30    17515\n",
       "2024-07-31    20041\n",
       "2024-08-31    20257\n",
       "2024-09-30    19207\n",
       "2024-10-31    23414\n",
       "2024-11-30    23602\n",
       "2024-12-31    20058\n",
       "Name: Healthcare, dtype: int64"
      ]
     },
     "execution_count": 73,
     "metadata": {},
     "output_type": "execute_result"
    }
   ],
   "source": [
    "(\n",
    "    pd.read_csv(test_path)\n",
    "    .rename(columns={\"Unnamed: 0\": \"Date\"})\n",
    "    .assign(Date=lambda x: pd.to_datetime(x[\"Date\"]))\n",
    "    .set_index(\"Date\")\n",
    "    [\"Healthcare\"]\n",
    ")    \n"
   ]
  },
  {
   "cell_type": "code",
   "execution_count": 72,
   "id": "d59526a5",
   "metadata": {},
   "outputs": [
    {
     "data": {
      "text/plain": [
       "2024-01-31    17167\n",
       "2024-02-29    17749\n",
       "2024-03-31    20144\n",
       "2024-04-30    20054\n",
       "2024-05-31    19128\n",
       "2024-06-30    17515\n",
       "2024-07-31    20041\n",
       "2024-08-31    20257\n",
       "2024-09-30    19207\n",
       "2024-10-31    23414\n",
       "2024-11-30    23602\n",
       "2024-12-31    20058\n",
       "Freq: ME, Name: Healthcare, dtype: int64"
      ]
     },
     "execution_count": 72,
     "metadata": {},
     "output_type": "execute_result"
    }
   ],
   "source": [
    "y_test"
   ]
  },
  {
   "cell_type": "markdown",
   "id": "2f36dad4",
   "metadata": {},
   "source": []
  }
 ],
 "metadata": {
  "kernelspec": {
   "display_name": "Python 3",
   "language": "python",
   "name": "python3"
  },
  "language_info": {
   "codemirror_mode": {
    "name": "ipython",
    "version": 3
   },
   "file_extension": ".py",
   "mimetype": "text/x-python",
   "name": "python",
   "nbconvert_exporter": "python",
   "pygments_lexer": "ipython3",
   "version": "3.10.16"
  }
 },
 "nbformat": 4,
 "nbformat_minor": 5
}
